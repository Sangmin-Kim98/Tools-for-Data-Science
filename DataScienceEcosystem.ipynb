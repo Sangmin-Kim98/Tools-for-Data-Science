{
 "cells": [
  {
   "cell_type": "markdown",
   "id": "9a8fa5c4-f157-49ce-a4d5-99a85c17b74d",
   "metadata": {},
   "source": [
    "# Data Science Tools and Ecosystem"
   ]
  },
  {
   "cell_type": "markdown",
   "id": "d5b7a60c-6c55-4087-8744-b717857978e3",
   "metadata": {},
   "source": [
    "## In this notebook, Data Science Tools and Ecosystem are summarized."
   ]
  },
  {
   "cell_type": "markdown",
   "id": "cdfdd0e0-701a-421e-8030-580a40d2c1fd",
   "metadata": {},
   "source": [
    "Some of the popular languages that Data Scientists use are: "
   ]
  },
  {
   "cell_type": "markdown",
   "id": "96eb1d01-17c1-4bf1-bfaf-82fcc365a25c",
   "metadata": {},
   "source": [
    "1. Python\n",
    "2. Java\n",
    "3. MATLAB"
   ]
  },
  {
   "cell_type": "markdown",
   "id": "79feb68a-5417-42ec-b296-42c7fa09fa95",
   "metadata": {},
   "source": [
    "**Objectives:** List popular languages for Data Science\n",
    "- Python\n",
    "- Java\n",
    "- Matlab"
   ]
  },
  {
   "cell_type": "markdown",
   "id": "3f56db9f-1991-4a59-80ea-bb97143a3828",
   "metadata": {
    "tags": []
   },
   "source": [
    "Some of the commonly used libraries used by Data Scientists include:"
   ]
  },
  {
   "cell_type": "markdown",
   "id": "c0e10fcd-4017-4075-9f2b-a5b8405c3e18",
   "metadata": {},
   "source": [
    "1. NumPy\n",
    "2. Pandas\n",
    "3. SciPy"
   ]
  },
  {
   "cell_type": "markdown",
   "id": "1c895961-0967-4d11-9e9f-7faed1ded753",
   "metadata": {
    "tags": []
   },
   "source": [
    "| Data Science Tools | Julia | Matlab | Jupyter Notebook |\n",
    "|:--------:|:--------:|:--------:|:--------:|"
   ]
  },
  {
   "cell_type": "markdown",
   "id": "577319c5-82a0-4bc6-ad9c-0f2f144a709c",
   "metadata": {},
   "source": [
    "### Below are a few examples of evaluating arithmetic expressions in Python"
   ]
  },
  {
   "cell_type": "code",
   "execution_count": 6,
   "id": "d41a3a82-cf30-4f54-a527-995fdddc3a46",
   "metadata": {
    "tags": []
   },
   "outputs": [
    {
     "data": {
      "text/plain": [
       "17"
      ]
     },
     "execution_count": 6,
     "metadata": {},
     "output_type": "execute_result"
    }
   ],
   "source": [
    "#This a simple arithmetic expression to mutiply then add integers\n",
    "(3*4)+5"
   ]
  },
  {
   "cell_type": "code",
   "execution_count": 19,
   "id": "44e98708-95ff-487b-a4a2-00db76811ff2",
   "metadata": {
    "tags": []
   },
   "outputs": [
    {
     "name": "stdout",
     "output_type": "stream",
     "text": [
      "3 Hour\n",
      "20 Minutes\n"
     ]
    }
   ],
   "source": [
    "#This will convert 200 minutes to hours by diving by 60\n",
    "min=int(200)\n",
    "hour=min//60\n",
    "min=min%60\n",
    "print(hour,\"Hour\")\n",
    "print(min,\"Minutes\")"
   ]
  },
  {
   "cell_type": "markdown",
   "id": "241ac30f-29b4-4c3d-9f1b-ea41b31df003",
   "metadata": {},
   "source": [
    "## Author\n",
    "Sangmin Kim"
   ]
  },
  {
   "cell_type": "code",
   "execution_count": null,
   "id": "bd45ddd7-9a37-452f-931d-9c418447db2e",
   "metadata": {},
   "outputs": [],
   "source": []
  }
 ],
 "metadata": {
  "kernelspec": {
   "display_name": "Python",
   "language": "python",
   "name": "conda-env-python-py"
  },
  "language_info": {
   "codemirror_mode": {
    "name": "ipython",
    "version": 3
   },
   "file_extension": ".py",
   "mimetype": "text/x-python",
   "name": "python",
   "nbconvert_exporter": "python",
   "pygments_lexer": "ipython3",
   "version": "3.7.12"
  }
 },
 "nbformat": 4,
 "nbformat_minor": 5
}
